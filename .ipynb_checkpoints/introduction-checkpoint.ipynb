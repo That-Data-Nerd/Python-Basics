{
 "cells": [
  {
   "cell_type": "markdown",
   "id": "5fb0c3c6-7f42-4821-bdeb-e0f73db6ed80",
   "metadata": {},
   "source": [
    "# Welcome to Python!\n",
    "by Fermin F. Garcia IV \n",
    "<br>\n",
    "<br>\n",
    "This is designed for anyone looking to learn python from the zero experience with programming. The goal is to introduce you to basic python and programmatic concepts. "
   ]
  },
  {
   "cell_type": "markdown",
   "id": "8585e63b-fe37-4450-b82c-35e5317a9ded",
   "metadata": {},
   "source": [
    "## Where are we?"
   ]
  },
  {
   "cell_type": "markdown",
   "id": "68023ee3-3c82-4a5e-be4e-0c886525662d",
   "metadata": {},
   "source": [
    "Where we are right now is a jupyter notebook. These notebooks allow us to run individual python code for each cell. This is the best platform to learn python. This notebook is capiable of running python and markdown, which we will cover later down the line."
   ]
  },
  {
   "cell_type": "markdown",
   "id": "c672567e-22ee-4c8a-829b-198263f0b63e",
   "metadata": {},
   "source": [
    "# Comments"
   ]
  },
  {
   "cell_type": "markdown",
   "id": "d1440b79-4163-430b-8283-bd8a812d1b3b",
   "metadata": {},
   "source": [
    "### What are comments:\n",
    "Comments are part of our program, when ran will ignore. They are mostly used for \n",
    "* Help who ever is reading your code understand what is going on with the code you wrote.\n",
    "* To help YOU remember what you are doing in your code.\n",
    "* Degugging\n",
    "\n",
    "### Writing Comments:\n",
    "There are two main methods to write comments, Single line comments and multiple line comments\n",
    "\n",
    "* Single Line Comments\n",
    "Single line comments begin with a `#`. They are used to when the comment is on a single line. For example.\n",
    "\n",
    "`# This is a proper comment as its limited to one line`"
   ]
  },
  {
   "cell_type": "markdown",
   "id": "8ef63e28-8b29-4840-b625-8e3ae9550ef3",
   "metadata": {},
   "source": [
    "`This is not a proper comment as there is no # in front of it `"
   ]
  },
  {
   "cell_type": "markdown",
   "id": "ef8405e4-7758-4335-bd3b-05fc62ea1efa",
   "metadata": {},
   "source": [
    "`python_is_lit_fam = True # This is a proper comment`"
   ]
  },
  {
   "cell_type": "markdown",
   "id": "bc413a9d-2a0d-41d8-aefc-aed7c8aa9dc8",
   "metadata": {},
   "source": [
    "### Multiple Line Comments\n",
    "Sometimes our comments are not just limited to like when we write doc strings (we will learn more about doc strings when we learn about functions) when we need to make comments that extend longer than a line. Mulitiline comments begin with and end with either three single quotation, or double quotion. It does not matter which one as long as the opeing quotations end with the same type of quotations used in the begining. In other words, You can not mix quotation. \n",
    "#### Example of proper multiline comment\n",
    "<br>\n",
    "''' <br>\n",
    "\n",
    "This is the proper way to write a comment <br>\n",
    "That uses mutiple lines to explain what is going on <br>\n",
    "'''\n",
    "\n",
    "While this is not a valid use of multiline comments\n",
    "\n",
    "\"\"\"<br>\n",
    "Hello world<br>\n",
    "'''<br>\n",
    "\n",
    "This above example is incorrect because it uses the wrong quotation to end the comment."
   ]
  },
  {
   "cell_type": "markdown",
   "id": "a3f74b77-3c03-40e5-b22f-f5ac97851aa1",
   "metadata": {},
   "source": [
    "# Errors:\n",
    "In your journey to learn Python you will come across errors. When you come across errors they should not discourage you but enciurage you to \"solve\" the error. We will see our first error below."
   ]
  },
  {
   "cell_type": "code",
   "execution_count": 1,
   "id": "43aa4256-ab27-414a-9f17-f9582a57e666",
   "metadata": {
    "tags": []
   },
   "outputs": [
    {
     "ename": "SyntaxError",
     "evalue": "incomplete input (2847181265.py, line 1)",
     "output_type": "error",
     "traceback": [
      "\u001b[0;36m  Cell \u001b[0;32mIn[1], line 1\u001b[0;36m\u001b[0m\n\u001b[0;31m    '''\u001b[0m\n\u001b[0m    ^\u001b[0m\n\u001b[0;31mSyntaxError\u001b[0m\u001b[0;31m:\u001b[0m incomplete input\n"
     ]
    }
   ],
   "source": [
    "'''\n",
    "This comment will cause a SyntaxError becuase this comment closes the\n",
    "with different closing quotations.\n",
    "\"\"\""
   ]
  },
  {
   "cell_type": "markdown",
   "id": "7fc146e5-e0b1-487c-8aa9-d50234af53fc",
   "metadata": {},
   "source": [
    "We can see that in the error above, It communicates the type of error\n",
    "and a message on what is wrong. In this case incomplete input meaning run python ran the program, it looked for the closing quotation, which should have been `'''` but never found the proper closing quotation."
   ]
  },
  {
   "cell_type": "code",
   "execution_count": 5,
   "id": "e4f6ed4d-8be2-4583-abbf-896389b0cdd7",
   "metadata": {
    "tags": []
   },
   "outputs": [
    {
     "data": {
      "text/plain": [
       "'\\nThis is our first comment that \\nisnt limited to one line, Yay\\n'"
      ]
     },
     "execution_count": 5,
     "metadata": {},
     "output_type": "execute_result"
    }
   ],
   "source": [
    "# This will NOT output any errors, b/c this is a properly written comment\n",
    "'''\n",
    "This is our first comment that \n",
    "isnt limited to one line, Yay\n",
    "'''"
   ]
  },
  {
   "cell_type": "markdown",
   "id": "3e79270f-f938-4aef-beff-1dc6bf7a2c2c",
   "metadata": {},
   "source": [
    "In the above line we can see that we get the comment gets printed. meaning it ran with no error. Important distinction. Notice how the multiline comment gets printed and the comment using the `#` didn't. This is because the multiline comment is used to write to string docs for a function to help the user better understand how the function is inteded to run. We will cover this more in depth later on when we learn to write out own functions"
   ]
  },
  {
   "cell_type": "markdown",
   "id": "96a0fabf-d92f-4863-aaa6-46b405c7f456",
   "metadata": {
    "tags": []
   },
   "source": [
    "## Data Types:\n",
    "When we are programing, we are processing information or data, because of this we classify or identify data together based on what the information is or the expected information is supose to be, these are called data types. We are going to start off with three (3) of the most common data types \n",
    "\n",
    "String:\n",
    "*Strings begin with either double `\"` or single `'` and end with their respective counterpart.\n",
    "Stings consist of a combination of keyboard charchters and numbers. Some examples of strings are*\n",
    "* `Names`\n",
    "* `Places`\n",
    "* `Passwords`\n",
    "* `Locations`\n",
    "\n",
    "Float:\n",
    "*Floats are numerical values that are represented with a decimal. Floats are written as just numbers and do **NOT** need any quotation some examples include*\n",
    "\n",
    "* `1.2345`\n",
    "* `Money`\n",
    "* `Stock Prices`\n",
    "* `4.0`\n",
    "\n",
    "Integer:  \n",
    "*Integers are numerical values that do not contain decimal values. Whole numbers only.*\n",
    "\n",
    "*  `People`\n",
    "* `1`\n",
    "* `4`\n",
    "\n",
    "Boolean:\n",
    "*Boolean Values are True or False values, which can be repersented by either a one (1) or a zero (0)\n",
    "In python they are written `True`, and `False`\n",
    "\n"
   ]
  },
  {
   "cell_type": "markdown",
   "id": "6aae0a74-c1b8-4891-bbd1-5fa0926d5bbc",
   "metadata": {},
   "source": [
    "### Variables:\n",
    "In programing variables are used to store data or information that is critical to the program you are building. <br> \n",
    "In Pyhton, when we create a variable we use the `=` to assign the value to the variable we created. In this use case the `=` is referred to as an assignment operator. \n",
    "\n",
    "### Creating Variables\n",
    "When creating variables it is important that we use descriptive names for our variables. Ambiguous names (broad names) increase the the likelihoodthat you might reuse the same variable multiple times and have conflicts in your program.\n",
    "\n",
    "* There are serveral different types of methods of naming which we will cover later on when we discuss formal python writing.*\n",
    "\n",
    "**Names to Avoid** <br>\n",
    "*Never use the characters ‘l’ (lowercase letter el), ‘O’ (uppercase letter oh), or ‘I’ (uppercase letter eye) as single character variable names.*\n",
    "\n",
    "*In some fonts, these characters are indistinguishable from the numerals one and zero. When tempted to use ‘l’, use ‘L’ instead.*\n",
    "\n",
    "\n",
    "\n",
    "\n",
    "\n",
    "\n",
    "\n",
    "\n",
    "\n"
   ]
  },
  {
   "cell_type": "code",
   "execution_count": 9,
   "id": "0514cf87-bb44-4218-bbe8-2f91a558e517",
   "metadata": {
    "tags": []
   },
   "outputs": [],
   "source": [
    "\n",
    "first_name = 'Fermin' # example of good variable name\n",
    "\n",
    "name = 'Fermin' # example of bad variable name\n",
    "\n",
    "# This is considered a bad variable name because it doesn't specifiy first, middle or last name, so it would\n",
    "# challenging for the reader to know what name it is. also fn, mn, and ln are also bad choices as variable names\n",
    "# as they are not spelled out. "
   ]
  },
  {
   "cell_type": "markdown",
   "id": "fc1f2195-eb82-4e4b-97f7-68e30b63ae3c",
   "metadata": {},
   "source": [
    "# Conclusion \n",
    "In this notebook we went over comments, data types , and how to name variable. We will be building ontop of this in the next notebook. Till next time the best way to learn python is to practice. Below are some practice problems to help you practice what was covered in this notebook."
   ]
  },
  {
   "cell_type": "markdown",
   "id": "5f8020cb-6b86-4681-bb33-8e414c052b5b",
   "metadata": {},
   "source": [
    "# Practice Problems:\n",
    "Below are some exercises that you can do help build your understanding of python "
   ]
  },
  {
   "cell_type": "code",
   "execution_count": 21,
   "id": "ca74b0ef-e378-4240-b626-03d52bbf1f0c",
   "metadata": {
    "tags": []
   },
   "outputs": [
    {
     "name": "stdout",
     "output_type": "stream",
     "text": [
      "Congratulations! You have successfully completed the exercise\n"
     ]
    }
   ],
   "source": [
    "# For the following data types, fill in the appropriate data type\n",
    "\n",
    "string_variable = '1' # write a string variable\n",
    "\n",
    "float_variable =  9.99 # write a float variable\n",
    "\n",
    "integer_variable = 4 # write a integer variable\n",
    "\n",
    "assert type(string_variable) == str, 'This must be a string variable'\n",
    "assert type(float_variable) == float, 'This must be a float variable'\n",
    "assert type(integer_variable) == int, 'This must be a integer variable'\n",
    "print('Congratulations! You have successfully completed the exercise')"
   ]
  },
  {
   "cell_type": "code",
   "execution_count": 23,
   "id": "96ec23b4-4b95-4b6f-b87a-23922ab465c1",
   "metadata": {
    "tags": []
   },
   "outputs": [
    {
     "name": "stdout",
     "output_type": "stream",
     "text": [
      "Congratulations! You have successfully completed the exercise\n"
     ]
    }
   ],
   "source": [
    "# For variable with good naming convention,insert the boolean value `True`, if the name if the variable is NOT\n",
    "# a good variable bame insert the boolean value `False`\n",
    "\n",
    "first_name = True\n",
    "name =  False\n",
    "middle_name = True \n",
    "ln = False\n",
    "\n",
    "assert first_name == True, 'This is a descriptive variable'\n",
    "assert name == False, 'This is not a descriptive variable'\n",
    "assert middle_name == True, 'This is a descriptive variable'\n",
    "assert name == False, 'This is not a descriptive variable'\n",
    "print('Congratulations! You have successfully completed the exercise')"
   ]
  },
  {
   "cell_type": "code",
   "execution_count": null,
   "id": "e2557581-8277-48e2-8dda-32fe9618fee3",
   "metadata": {},
   "outputs": [],
   "source": []
  }
 ],
 "metadata": {
  "kernelspec": {
   "display_name": "Python 3 (ipykernel)",
   "language": "python",
   "name": "python3"
  },
  "language_info": {
   "codemirror_mode": {
    "name": "ipython",
    "version": 3
   },
   "file_extension": ".py",
   "mimetype": "text/x-python",
   "name": "python",
   "nbconvert_exporter": "python",
   "pygments_lexer": "ipython3",
   "version": "3.11.3"
  }
 },
 "nbformat": 4,
 "nbformat_minor": 5
}
