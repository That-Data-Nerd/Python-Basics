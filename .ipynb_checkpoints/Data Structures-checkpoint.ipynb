{
 "cells": [
  {
   "cell_type": "markdown",
   "id": "a44b2336-d978-47fa-bc7b-0a8b4bed3120",
   "metadata": {},
   "source": [
    "# Tuples, Lists, and Dictionaries, Oh My!\n",
    "by Fermin Garcia"
   ]
  },
  {
   "cell_type": "markdown",
   "id": "bc2c711b-072c-4bea-add8-e8c352ea17c4",
   "metadata": {},
   "source": [
    "## Previously...\n",
    "In the previous notebook we discussed basic data types. Moving foreward, we are going take a deep dive into the data structures. Data structures allow us to orginize, store, manipulate and accessing our data or information. We will also learn some python built-in methods to help us work with data structures."
   ]
  },
  {
   "cell_type": "markdown",
   "id": "790ebef0-e858-4327-b456-4e215d58cf81",
   "metadata": {},
   "source": [
    "# Python Data Structures \n",
    "\n",
    "* Tuples\n",
    "*Tuples once created **CANNOT BE CHANGED** this is called immutable. \n",
    "Tuples are created using the following syntax `(item 1, item2, True,)`. It opens with an opening parethesis, follwed by the item you desire to be in the tuple. items are seperated by a comma, closing the tuple with the closing parethesis Imporant to note that tuples can have duplicates*\n",
    "\n",
    "* Lists\n",
    "*List are mutable (can be changed after created), they are created using the following syntax `[item1, item2, item3]` It begins with an opening bracket followed by the items desired to be in the list seperated by a comma and ending with a cloising brace.*\n",
    "\n",
    "* Dictionary\n",
    "* A dictionary is an unordered collection of `key-value pair` where each key is unique and is utilized to call stored data, tey are mutable and are created using the following syntax* <br>\n",
    "`{ key0 : 'hello',\n",
    "key1 : True,\n",
    "key2 : (value1, value2, value3)\n",
    "\n",
    "* Sets\n",
    "* Sets are an unordered pair of unique elements, meaning they do not allow for dupicated vales, unlike tupples. They are created using the syntax `{5,4,3,2,1}` "
   ]
  },
  {
   "cell_type": "markdown",
   "id": "ebd6238f-1770-431e-ba37-7857f694c172",
   "metadata": {},
   "source": [
    "# Creating a list in Python"
   ]
  },
  {
   "cell_type": "code",
   "execution_count": 1,
   "id": "07210996-1a89-4da0-ad15-5145fdf6113f",
   "metadata": {
    "tags": []
   },
   "outputs": [],
   "source": [
    "# Lists\n",
    "\n",
    "# We are are going to make a list of Spongebob Squarepants characters\n",
    "\n",
    "# First we need to name the list \n",
    "bakini_bottom_citizens = [ # Opeing Brackets \n",
    "    'Spongebob Squarepants', 'Squidward Tentacles', # Each item seperated by a comma\n",
    "    'Patrick Star', 'Eugene H. Krabs', 'Sheldon J. Plankton', # Each item seperated by a comma\n",
    "    'Sandy Cheeks', 'Gary the Snail' # Each item seperated by a comma\n",
    "]"
   ]
  },
  {
   "cell_type": "markdown",
   "id": "37b248b4-b6bb-4a50-8bdf-3c0f05ddba41",
   "metadata": {},
   "source": [
    "# Working with Lists\n",
    "*With lists Python gives us some tool to work with list. We can also access element from the use brace. In Python list items start at 0 so when accessing list items we use the item number for example* "
   ]
  },
  {
   "cell_type": "code",
   "execution_count": 2,
   "id": "6cbf631a-85da-4be3-849b-95953fb88480",
   "metadata": {
    "tags": []
   },
   "outputs": [
    {
     "name": "stdout",
     "output_type": "stream",
     "text": [
      "Spongebob Squarepants\n",
      "Squidward Tentacles\n"
     ]
    }
   ],
   "source": [
    "print(bakini_bottom_citizens[0]) # this will output or print the first element of the list\n",
    "print(bakini_bottom_citizens[1]) # this will output or print the second element of the list"
   ]
  },
  {
   "cell_type": "markdown",
   "id": "6aabfd9a-ea65-4ca0-98f0-3c33dec64671",
   "metadata": {},
   "source": [
    "When calling list items we can call a range of list items by using a `:`\n",
    "for example\n"
   ]
  },
  {
   "cell_type": "code",
   "execution_count": 3,
   "id": "78d6ca0d-2611-4a18-8b96-49821330a3ab",
   "metadata": {
    "tags": []
   },
   "outputs": [
    {
     "name": "stdout",
     "output_type": "stream",
     "text": [
      "['Spongebob Squarepants', 'Squidward Tentacles', 'Patrick Star', 'Eugene H. Krabs', 'Sheldon J. Plankton', 'Sandy Cheeks', 'Gary the Snail']\n",
      "['Spongebob Squarepants', 'Squidward Tentacles', 'Patrick Star']\n"
     ]
    }
   ],
   "source": [
    "print(bakini_bottom_citizens[:]) # This will return or output or print the entire list \n",
    "print(bakini_bottom_citizens[0:3]) # This will return the 0th element of the list up to but not include element 3. \n"
   ]
  },
  {
   "cell_type": "markdown",
   "id": "f6a16501-4768-4928-b0e4-2cd6b3670fc1",
   "metadata": {},
   "source": [
    "# Python List methods"
   ]
  },
  {
   "cell_type": "markdown",
   "id": "18c31c3a-f12f-4950-a473-d1c532792b47",
   "metadata": {},
   "source": [
    "## Adding a new item to an existing list\n",
    "### `list.append(x)`\n",
    "This allows us to add x to the list. we can do this a few ways for example \n"
   ]
  },
  {
   "cell_type": "code",
   "execution_count": 4,
   "id": "631e5636-6a21-471a-8400-ed71acba8891",
   "metadata": {
    "tags": []
   },
   "outputs": [
    {
     "name": "stdout",
     "output_type": "stream",
     "text": [
      "['Spongebob Squarepants', 'Squidward Tentacles', 'Patrick Star', 'Eugene H. Krabs', 'Sheldon J. Plankton', 'Sandy Cheeks', 'Gary the Snail', 'Karen Plankton']\n"
     ]
    }
   ],
   "source": [
    "bakini_bottom_citizens.append(\"Karen Plankton\") # This will add Karen Sheldons wife to the list\n",
    "print(bakini_bottom_citizens)"
   ]
  },
  {
   "cell_type": "markdown",
   "id": "78357bc2-9d55-4cb8-a315-4127cad2bda4",
   "metadata": {},
   "source": [
    "Here we can see that Karen Plankton has been added to the end of the list. We can also do this with variables as well. For example:"
   ]
  },
  {
   "cell_type": "code",
   "execution_count": 5,
   "id": "18eb6105-2f24-485f-9c8b-e0771a2a4925",
   "metadata": {
    "tags": []
   },
   "outputs": [
    {
     "name": "stdout",
     "output_type": "stream",
     "text": [
      "['Spongebob Squarepants', 'Squidward Tentacles', 'Patrick Star', 'Eugene H. Krabs', 'Sheldon J. Plankton', 'Sandy Cheeks', 'Gary the Snail', 'Karen Plankton', 'Pear Krab']\n"
     ]
    }
   ],
   "source": [
    "new_character = 'Pear Krab'\n",
    "bakini_bottom_citizens.append(new_character)\n",
    "print(bakini_bottom_citizens)"
   ]
  },
  {
   "cell_type": "markdown",
   "id": "7bd63890-d363-4866-afea-cb3ad925c2f1",
   "metadata": {},
   "source": [
    "In the above output we can see that Pearl Krabs, Mr. Krabs's daughter was now added to the list. "
   ]
  },
  {
   "cell_type": "markdown",
   "id": "1fc7775d-ece9-4627-880b-8b29bde1e30d",
   "metadata": {},
   "source": [
    "`list.extend()`\n",
    "This allows us to join two lists, for example we want to add Mermaid Man and Barnacle Boy"
   ]
  },
  {
   "cell_type": "code",
   "execution_count": 10,
   "id": "b10f48a5-6c1c-49bb-8d71-d9b79d8d0002",
   "metadata": {
    "tags": []
   },
   "outputs": [
    {
     "name": "stdout",
     "output_type": "stream",
     "text": [
      "['Spongebob Squarepants', 'Squidward Tentacles', 'Patrick Star', 'Eugene H. Krabs', 'Sheldon J. Plankton', 'Sandy Cheeks', 'Gary the Snail', 'Karen Plankton', 'Pear Krab', 'Mermaid Man', 'Barnacle Boy']\n"
     ]
    }
   ],
   "source": [
    "superheros = ['Mermaid Man','Barnacle Boy' ] # First we create a new list with the superheros in the list\n",
    "bakini_bottom_citizens.extend(superheros)\n",
    "print(bakini_bottom_citizens)"
   ]
  },
  {
   "cell_type": "markdown",
   "id": "555881a8-1993-43fd-846e-964b39b4a139",
   "metadata": {},
   "source": [
    "In the above output we can see that our super hero list was added to the end of our bakini_bottom_citizens list. "
   ]
  },
  {
   "cell_type": "markdown",
   "id": "6235376a-16e1-4184-9455-c3b08f398ab0",
   "metadata": {},
   "source": [
    "# `list.insert(index, x)`<br>\n",
    "This allows us to put a specific item into a specific index in a list item. For example \n"
   ]
  },
  {
   "cell_type": "code",
   "execution_count": 13,
   "id": "3801149c-abd8-4448-87d2-b0bed3ba36d2",
   "metadata": {
    "tags": []
   },
   "outputs": [
    {
     "name": "stdout",
     "output_type": "stream",
     "text": [
      "['Flying Dutchman', 'Spongebob Squarepants', 'Squidward Tentacles', 'Patrick Star', 'Eugene H. Krabs', 'Sheldon J. Plankton', 'Sandy Cheeks', 'Gary the Snail', 'Karen Plankton', 'Pear Krab', 'Mermaid Man', 'Barnacle Boy']\n"
     ]
    }
   ],
   "source": [
    "bakini_bottom_citizens.insert(0, 'Flying Dutchman') # This will insert in the first or 0 element in this list\n",
    "print(bakini_bottom_citizens)"
   ]
  },
  {
   "cell_type": "markdown",
   "id": "88793d39-f2a7-4455-897a-fe117115b0ad",
   "metadata": {},
   "source": [
    "From the output from the code above we can see that Flying Dutchman was added to the begining of the list rather than the end of the list like when we utilized .append() or .extend() this is because we specified it to be in the 0 index position.  "
   ]
  },
  {
   "cell_type": "markdown",
   "id": "5a8d7f8a-f617-45c9-bb7a-ff1afeaf90ed",
   "metadata": {},
   "source": [
    "# `list.remove(x)`<br>\n",
    "This allows us to remove an item from a list. For example since the Flying Dutchman is a ghost rather than a sea critter so we can remove him from our list."
   ]
  },
  {
   "cell_type": "code",
   "execution_count": 14,
   "id": "23c9e01c-5f26-438d-aa5a-3f8a6686f027",
   "metadata": {
    "tags": []
   },
   "outputs": [
    {
     "name": "stdout",
     "output_type": "stream",
     "text": [
      "['Spongebob Squarepants', 'Squidward Tentacles', 'Patrick Star', 'Eugene H. Krabs', 'Sheldon J. Plankton', 'Sandy Cheeks', 'Gary the Snail', 'Karen Plankton', 'Pear Krab', 'Mermaid Man', 'Barnacle Boy']\n"
     ]
    }
   ],
   "source": [
    "bakini_bottom_citizens.remove('Flying Dutchman')\n",
    "print(bakini_bottom_citizens)"
   ]
  },
  {
   "cell_type": "markdown",
   "id": "7fab7b96-b447-4ab3-be2b-859986faac90",
   "metadata": {},
   "source": [
    "From the above output we can see that Flying Dutchman was removed from our list. "
   ]
  },
  {
   "cell_type": "markdown",
   "id": "6acaf7bd-bf13-4780-b9b3-504c2ca41d43",
   "metadata": {},
   "source": [
    "# `list.pop[index]` <br>\n",
    "This allows us to return and remove the last element from the list. In the example below we can see that when we insert index -1 (The index of the last item in our list.) We can see that `Barnacle Boy` is returned and removed from the list "
   ]
  },
  {
   "cell_type": "code",
   "execution_count": 16,
   "id": "e6e5cd68-0c0b-4c70-80a7-24affdbc9333",
   "metadata": {
    "tags": []
   },
   "outputs": [
    {
     "name": "stdout",
     "output_type": "stream",
     "text": [
      "Barnacle Boy\n",
      "['Spongebob Squarepants', 'Squidward Tentacles', 'Patrick Star', 'Eugene H. Krabs', 'Sheldon J. Plankton', 'Sandy Cheeks', 'Gary the Snail', 'Karen Plankton', 'Pear Krab', 'Mermaid Man']\n"
     ]
    }
   ],
   "source": [
    "barnacle_boy = bakini_bottom_citizens.pop(-1)\n",
    "print(barnacle_boy) # first we print the saved variable that returned that last list element \n",
    "print(bakini_bottom_citizens) # now we print the list to display that Barnacle Boy is removed from the list\n"
   ]
  }
 ],
 "metadata": {
  "kernelspec": {
   "display_name": "Python 3 (ipykernel)",
   "language": "python",
   "name": "python3"
  },
  "language_info": {
   "codemirror_mode": {
    "name": "ipython",
    "version": 3
   },
   "file_extension": ".py",
   "mimetype": "text/x-python",
   "name": "python",
   "nbconvert_exporter": "python",
   "pygments_lexer": "ipython3",
   "version": "3.11.3"
  }
 },
 "nbformat": 4,
 "nbformat_minor": 5
}
